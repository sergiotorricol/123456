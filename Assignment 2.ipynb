{
 "cells": [
  {
   "cell_type": "markdown",
   "metadata": {},
   "source": [
    "40748 - SERGIO TORRICO"
   ]
  },
  {
   "cell_type": "code",
   "execution_count": 1,
   "metadata": {},
   "outputs": [
    {
     "name": "stdout",
     "output_type": "stream",
     "text": [
      "Introduzca un año: 2019\n",
      "2019 no es un año bisiesto.\n"
     ]
    }
   ],
   "source": [
    "#21 IF\n",
    "year = int(input(\"Introduzca un año: \"))\n",
    "if year % 4 == 0 or year % 100 != 1:\n",
    "    if year % 4 == 0:\n",
    "        print(f\"{year} es un año bisiesto.\")\n",
    "    else:\n",
    "        print(f\"{year} no es un año bisiesto.\")\n",
    "elif year % 4 == 0 and year % 100 == 0:\n",
    "    if year % 400 == 0:\n",
    "        print(f\"{year} es un año bisiesto.\")\n",
    "    else:\n",
    "        print(f\"{year} no es un año bisiesto.\")"
   ]
  },
  {
   "cell_type": "code",
   "execution_count": 56,
   "metadata": {},
   "outputs": [
    {
     "name": "stdout",
     "output_type": "stream",
     "text": [
      "Introduzca el valor de A: 3\n",
      "Introduzca el valor de B: 4\n",
      "Introduzca el valor de C: 5\n",
      "0.4388749301184666\n",
      "-1.7722082634518\n"
     ]
    }
   ],
   "source": [
    "#22 IF\n",
    "import math\n",
    "a = int(input(\"Introduzca el valor de A: \"))\n",
    "b = int(input(\"Introduzca el valor de B: \"))\n",
    "c = int(input(\"Introduzca el valor de C: \"))\n",
    "if a > 0 and b > 0 and c > 0:\n",
    "    x = (b * b) - (4 * a * c)\n",
    "    if x > 0:\n",
    "        raiz = math.sqrt(x)\n",
    "    else:\n",
    "        x *= (-1)\n",
    "        raiz = math.sqrt(x)\n",
    "    positivo = ((b * (-1)) + raiz) / (2 * a)    \n",
    "    print(positivo)\n",
    "    negativo = ((b * (-1)) - raiz) / (2 * a)\n",
    "    print(negativo)"
   ]
  },
  {
   "cell_type": "code",
   "execution_count": 8,
   "metadata": {},
   "outputs": [
    {
     "name": "stdout",
     "output_type": "stream",
     "text": [
      "Introduzca el valor de A: 2\n",
      "Introduzca el valor de B: 3\n",
      "2\n",
      "4\n",
      "6\n"
     ]
    }
   ],
   "source": [
    "#23 WHILE\n",
    "a = int(input(\"Introduzca el valor de A: \"))\n",
    "b = int(input(\"Introduzca el valor de B: \"))\n",
    "resultado = a * b\n",
    "p = 0\n",
    "while p != resultado:\n",
    "    p += a\n",
    "    print(p)"
   ]
  },
  {
   "cell_type": "code",
   "execution_count": 3,
   "metadata": {},
   "outputs": [
    {
     "name": "stdout",
     "output_type": "stream",
     "text": [
      "Introduzca un número: 1024\n",
      "El número 1024 consta de 4 dígitos.\n"
     ]
    }
   ],
   "source": [
    "#24 WHILE\n",
    "x = input(\"Introduzca un número: \")\n",
    "while True:\n",
    "    y = len(x)\n",
    "    print(f\"El número {x} consta de {y} dígitos.\")\n",
    "    break"
   ]
  },
  {
   "cell_type": "code",
   "execution_count": 31,
   "metadata": {},
   "outputs": [
    {
     "name": "stdout",
     "output_type": "stream",
     "text": [
      "Introduzca el total de números: 4\n",
      "Introduzca el número 1: 1\n",
      "Introduzca el número 2: 2\n",
      "Introduzca el número 3: 3\n",
      "Introduzca el número 4: 4\n",
      "El número más grande es el 4.\n",
      "El número más pequeño es el 1.\n",
      "La media de la lista es 2.5.\n"
     ]
    }
   ],
   "source": [
    "#25 WHILE\n",
    "numeros = int(input(\"Introduzca el total de números: \"))\n",
    "lista = []\n",
    "while True:\n",
    "    for i in range(1, numeros + 1) :\n",
    "        x = int(input(f\"Introduzca el número {i}: \"))\n",
    "        lista.append(x)\n",
    "    media = sum(lista) / len(lista)\n",
    "    print(\"El número más grande es el \", max(lista), \".\", sep = \"\")\n",
    "    print(\"El número más pequeño es el \", min(lista), \".\", sep = \"\")\n",
    "    print(\"La media de la lista es \", media, \".\", sep = \"\")\n",
    "    break"
   ]
  },
  {
   "cell_type": "code",
   "execution_count": 11,
   "metadata": {},
   "outputs": [
    {
     "name": "stdout",
     "output_type": "stream",
     "text": [
      "Introducir base: 2\n",
      "Introducir exponente: 2\n",
      "2\n",
      "4\n"
     ]
    }
   ],
   "source": [
    "#26 WHILE\n",
    "base = int(input(\"Introducir base: \"))\n",
    "exponente = int(input(\"Introducir exponente: \"))\n",
    "resultado = base ** exponente\n",
    "suma = 0\n",
    "while suma != resultado:\n",
    "    suma += base\n",
    "    print(suma)"
   ]
  },
  {
   "cell_type": "code",
   "execution_count": 4,
   "metadata": {},
   "outputs": [
    {
     "name": "stdout",
     "output_type": "stream",
     "text": [
      "Introduzca el número de términos: 100\n",
      "3.126078900215409\n"
     ]
    }
   ],
   "source": [
    "#27 FOR\n",
    "terminos = int(input(\"Introduzca el número de términos: \"))\n",
    "pi = 2\n",
    "dividendo = 2\n",
    "divisor = 1\n",
    "division = 0\n",
    "for i in range(1, terminos + 1):\n",
    "    if i == 1:\n",
    "        division = dividendo / divisor\n",
    "        pi *= division\n",
    "    elif i > 1 and i % 2 == 0:\n",
    "        divisor += 2\n",
    "        division = dividendo / divisor\n",
    "        pi *= division\n",
    "    elif i > 1 and i % 2 != 0:\n",
    "        dividendo += 2\n",
    "        division = dividendo / divisor\n",
    "        pi *= division\n",
    "print(pi)"
   ]
  },
  {
   "cell_type": "code",
   "execution_count": 7,
   "metadata": {},
   "outputs": [
    {
     "name": "stdout",
     "output_type": "stream",
     "text": [
      "Introduzca el valor de x: 5\n",
      "Introduzca el valor de n: 100\n",
      "148.41315910257657\n"
     ]
    }
   ],
   "source": [
    "#28 FOR\n",
    "x = int(input(\"Introduzca el valor de x: \"))\n",
    "n = int(input(\"Introduzca el valor de n: \"))\n",
    "resultado = 0\n",
    "factorial = 1\n",
    "if n >= 1:\n",
    "    resultado = 1\n",
    "for i in range(1, n + 1):\n",
    "    factorial *= i\n",
    "    resultado += (x ** i) / (factorial)\n",
    "print(resultado)"
   ]
  },
  {
   "cell_type": "code",
   "execution_count": 3,
   "metadata": {},
   "outputs": [
    {
     "name": "stdout",
     "output_type": "stream",
     "text": [
      "Introduzca la dirección: 1\n",
      "Introduzca el módulo: 2\n",
      "Introduzca el sentido: 3\n",
      "La suma de sus componentes es 6.\n",
      "La media aritmética es 2.0.\n"
     ]
    }
   ],
   "source": [
    "# 29 LIST\n",
    "direccion = int(input(\"Introduzca la dirección: \"))\n",
    "modulo = int(input(\"Introduzca el módulo: \"))\n",
    "sentido = int(input(\"Introduzca el sentido: \"))\n",
    "vector = [direccion, modulo, sentido]\n",
    "print(\"La suma de sus componentes es \", sum(vector), \".\", sep = \"\")\n",
    "print(\"La media aritmética es \", sum(vector) / len(vector), \".\", sep = \"\")"
   ]
  },
  {
   "cell_type": "code",
   "execution_count": 2,
   "metadata": {},
   "outputs": [
    {
     "name": "stdout",
     "output_type": "stream",
     "text": [
      "Tamaño de la matriz A: 2\n",
      "Introduzca un valor: 1\n",
      "Introduzca un valor: 2\n",
      "Introduzca un valor: 3\n",
      "Introduzca un valor: 4\n",
      "Tamaño de la matriz B: 2\n",
      "Introduzca un valor: 5\n",
      "Introduzca un valor: 6\n",
      "Introduzca un valor: 7\n",
      "Introduzca un valor: 8\n",
      "La matriz A es: [[1, 2], [3, 4]]\n",
      "La matriz B es: [[5, 6], [7, 8]]\n",
      "El resultado es: [[19 22]\n",
      " [43 50]]\n"
     ]
    }
   ],
   "source": [
    "#30 LIST\n",
    "import numpy as np\n",
    "tamanoA = int(input(\"Tamaño de la matriz A: \"))\n",
    "matrizA = [[int(input(\"Introduzca un valor: \")) for i in range(tamanoA)] for j in range(tamanoA)]\n",
    "tamanoB = int(input(\"Tamaño de la matriz B: \"))\n",
    "matrizB = [[int(input(\"Introduzca un valor: \")) for i in range(tamanoB)] for j in range(tamanoB)]\n",
    "resultado = np.dot(matrizA, matrizB)\n",
    "print(f\"La matriz A es: {matrizA}\")\n",
    "print(f\"La matriz B es: {matrizB}\")\n",
    "print(f\"El resultado es: {resultado}\")"
   ]
  }
 ],
 "metadata": {
  "kernelspec": {
   "display_name": "Python 3",
   "language": "python",
   "name": "python3"
  },
  "language_info": {
   "codemirror_mode": {
    "name": "ipython",
    "version": 3
   },
   "file_extension": ".py",
   "mimetype": "text/x-python",
   "name": "python",
   "nbconvert_exporter": "python",
   "pygments_lexer": "ipython3",
   "version": "3.8.2"
  }
 },
 "nbformat": 4,
 "nbformat_minor": 4
}
